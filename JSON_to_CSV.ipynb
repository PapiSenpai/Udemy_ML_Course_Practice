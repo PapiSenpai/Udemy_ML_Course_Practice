{
 "cells": [
  {
   "cell_type": "code",
   "execution_count": 10,
   "id": "794492a6-23fc-4304-ae85-7c4b7fc8a7a9",
   "metadata": {},
   "outputs": [],
   "source": [
    "import pandas\n",
    "import json\n",
    "\n",
    "json_obj = {'execution_start': '2025-10-09 02:19:56',\n",
    " 'execution_time': '00:00:00',\n",
    " 'start_date': '2020-09-14',\n",
    " 'end_date': '2020-09-18',\n",
    " 'modes': 'Full Accessible - PALSAR-2 - ALOS-2,COSI-SAR - KOMPSAT-5,SAR-X - RISAT-2,Full Range - TSX-SAR - TerraSAR-X',\n",
    " 'region': 'User Folder: Creek Fire 2020',\n",
    " 'complete': False,\n",
    " 'status': 417,\n",
    " 'message': 'Automatic reset of stalled task.',\n",
    " 'success': False}"
   ]
  },
  {
   "cell_type": "code",
   "execution_count": 33,
   "id": "7bda4b60-513e-4895-8fe8-37d1350c9781",
   "metadata": {},
   "outputs": [
    {
     "data": {
      "text/plain": [
       "['00:00:00']"
      ]
     },
     "execution_count": 33,
     "metadata": {},
     "output_type": "execute_result"
    }
   ],
   "source": [
    "obj_list = {task : time}\n",
    "obj_list.append(json_obj['execution_time'])\n",
    "\n",
    "obj_list"
   ]
  },
  {
   "cell_type": "code",
   "execution_count": 35,
   "id": "17252cc7-9091-4194-ba8c-2e97d68ad605",
   "metadata": {},
   "outputs": [],
   "source": [
    "mission_obj =  {'mission': 'CARTOSAT-1',\n",
    "  'norad_id': '28649',\n",
    "  'mim_id': 275,\n",
    "  'launch_date': '2005-05-05',\n",
    "  'decommissioned_date': '2019-01-01',\n",
    "  'earliest_tle_date': '2005-05-06',\n",
    "  'latest_tle_date': '2023-07-18',\n",
    "  'status': 'deactivated',\n",
    "  'instrument_modes': [{'instrument': 'Pan', 'mode': ''}]}"
   ]
  },
  {
   "cell_type": "code",
   "execution_count": 37,
   "id": "d13bbd33-efda-436d-b9dc-a26ec2665c3a",
   "metadata": {},
   "outputs": [
    {
     "data": {
      "text/plain": [
       "[{'instrument': 'Pan', 'mode': ''}]"
      ]
     },
     "execution_count": 37,
     "metadata": {},
     "output_type": "execute_result"
    }
   ],
   "source": [
    "mission_obj['instrument_modes']"
   ]
  },
  {
   "cell_type": "code",
   "execution_count": 14,
   "id": "4c028fc8-4d6b-49e6-80c0-65f002d8e11f",
   "metadata": {},
   "outputs": [
    {
     "data": {
      "text/html": [
       "<div>\n",
       "<style scoped>\n",
       "    .dataframe tbody tr th:only-of-type {\n",
       "        vertical-align: middle;\n",
       "    }\n",
       "\n",
       "    .dataframe tbody tr th {\n",
       "        vertical-align: top;\n",
       "    }\n",
       "\n",
       "    .dataframe thead th {\n",
       "        text-align: right;\n",
       "    }\n",
       "</style>\n",
       "<table border=\"1\" class=\"dataframe\">\n",
       "  <thead>\n",
       "    <tr style=\"text-align: right;\">\n",
       "      <th></th>\n",
       "      <th>execution_start</th>\n",
       "      <th>execution_time</th>\n",
       "      <th>start_date</th>\n",
       "      <th>end_date</th>\n",
       "      <th>modes</th>\n",
       "      <th>region</th>\n",
       "      <th>complete</th>\n",
       "      <th>status</th>\n",
       "      <th>message</th>\n",
       "      <th>success</th>\n",
       "    </tr>\n",
       "  </thead>\n",
       "  <tbody>\n",
       "    <tr>\n",
       "      <th>0</th>\n",
       "      <td>2025-10-09 02:19:56</td>\n",
       "      <td>00:00:00</td>\n",
       "      <td>2020-09-14</td>\n",
       "      <td>2020-09-18</td>\n",
       "      <td>Full Accessible - PALSAR-2 - ALOS-2,COSI-SAR -...</td>\n",
       "      <td>User Folder: Creek Fire 2020</td>\n",
       "      <td>False</td>\n",
       "      <td>417</td>\n",
       "      <td>Automatic reset of stalled task.</td>\n",
       "      <td>False</td>\n",
       "    </tr>\n",
       "  </tbody>\n",
       "</table>\n",
       "</div>"
      ],
      "text/plain": [
       "       execution_start execution_time  start_date    end_date  \\\n",
       "0  2025-10-09 02:19:56       00:00:00  2020-09-14  2020-09-18   \n",
       "\n",
       "                                               modes  \\\n",
       "0  Full Accessible - PALSAR-2 - ALOS-2,COSI-SAR -...   \n",
       "\n",
       "                         region  complete  status  \\\n",
       "0  User Folder: Creek Fire 2020     False     417   \n",
       "\n",
       "                            message  success  \n",
       "0  Automatic reset of stalled task.    False  "
      ]
     },
     "execution_count": 14,
     "metadata": {},
     "output_type": "execute_result"
    }
   ],
   "source": [
    "converted_json_obj = pd.DataFrame([json_obj])\n",
    "# print(converted_json_obj.to_markdown(index=False))\n",
    "converted_json_obj\n"
   ]
  },
  {
   "cell_type": "code",
   "execution_count": 28,
   "id": "d73bb12d-e1fa-4d92-886d-43a7af2abd80",
   "metadata": {},
   "outputs": [
    {
     "data": {
      "text/plain": [
       "Index(['execution_time'], dtype='object')"
      ]
     },
     "execution_count": 28,
     "metadata": {},
     "output_type": "execute_result"
    }
   ],
   "source": [
    "exe_time = converted_json_obj[['execution_time']]\n",
    "exe_time.columns"
   ]
  },
  {
   "cell_type": "code",
   "execution_count": 25,
   "id": "5f9f6a7e-2c48-4903-ba5a-adb7febaf262",
   "metadata": {},
   "outputs": [
    {
     "name": "stdout",
     "output_type": "stream",
     "text": [
      "execution_time    timedelta64[ns]\n",
      "dtype: object\n"
     ]
    }
   ],
   "source": [
    "# Convert the 'execution_time' string column to a Timedelta object\n",
    "# exe_time['execution_time'] = pd.to_timedelta(exe_time['execution_time'])\n",
    "# Fix: Directly set the value on the original DataFrame 'df'\n",
    "exe_time.loc[:, 'execution_time'] = pd.to_timedelta(exe_time['execution_time'])\n",
    "print(exe_time.dtypes)"
   ]
  },
  {
   "cell_type": "code",
   "execution_count": 26,
   "id": "b0b0feaa-b4f1-4c28-bd75-9bdeff8269ac",
   "metadata": {},
   "outputs": [
    {
     "data": {
      "text/html": [
       "<div>\n",
       "<style scoped>\n",
       "    .dataframe tbody tr th:only-of-type {\n",
       "        vertical-align: middle;\n",
       "    }\n",
       "\n",
       "    .dataframe tbody tr th {\n",
       "        vertical-align: top;\n",
       "    }\n",
       "\n",
       "    .dataframe thead th {\n",
       "        text-align: right;\n",
       "    }\n",
       "</style>\n",
       "<table border=\"1\" class=\"dataframe\">\n",
       "  <thead>\n",
       "    <tr style=\"text-align: right;\">\n",
       "      <th></th>\n",
       "      <th>execution_time</th>\n",
       "    </tr>\n",
       "  </thead>\n",
       "  <tbody>\n",
       "    <tr>\n",
       "      <th>0</th>\n",
       "      <td>0 days</td>\n",
       "    </tr>\n",
       "  </tbody>\n",
       "</table>\n",
       "</div>"
      ],
      "text/plain": [
       "  execution_time\n",
       "0         0 days"
      ]
     },
     "execution_count": 26,
     "metadata": {},
     "output_type": "execute_result"
    }
   ],
   "source": [
    "exe_time"
   ]
  },
  {
   "cell_type": "markdown",
   "id": "1d381e65-993d-4d34-aa22-0c92a2152368",
   "metadata": {},
   "source": [
    "Here we will place the value in 'execution_time' into a list"
   ]
  },
  {
   "cell_type": "code",
   "execution_count": 29,
   "id": "1b80c862-b772-4ee2-a931-f47fe4f9e7c3",
   "metadata": {},
   "outputs": [
    {
     "ename": "AttributeError",
     "evalue": "'DataFrame' object has no attribute 'tolist'",
     "output_type": "error",
     "traceback": [
      "\u001b[1;31m---------------------------------------------------------------------------\u001b[0m",
      "\u001b[1;31mAttributeError\u001b[0m                            Traceback (most recent call last)",
      "\u001b[1;32m~\\AppData\\Local\\Temp\\ipykernel_4200\\646730704.py\u001b[0m in \u001b[0;36m?\u001b[1;34m()\u001b[0m\n\u001b[1;32m----> 1\u001b[1;33m \u001b[0mexecution_time_list\u001b[0m \u001b[1;33m=\u001b[0m \u001b[0mexe_time\u001b[0m\u001b[1;33m.\u001b[0m\u001b[0mtolist\u001b[0m\u001b[1;33m(\u001b[0m\u001b[1;33m)\u001b[0m\u001b[1;33m\u001b[0m\u001b[1;33m\u001b[0m\u001b[0m\n\u001b[0m",
      "\u001b[1;32m~\\AppData\\Local\\anaconda3\\Lib\\site-packages\\pandas\\core\\generic.py\u001b[0m in \u001b[0;36m?\u001b[1;34m(self, name)\u001b[0m\n\u001b[0;32m   6295\u001b[0m             \u001b[1;32mand\u001b[0m \u001b[0mname\u001b[0m \u001b[1;32mnot\u001b[0m \u001b[1;32min\u001b[0m \u001b[0mself\u001b[0m\u001b[1;33m.\u001b[0m\u001b[0m_accessors\u001b[0m\u001b[1;33m\u001b[0m\u001b[1;33m\u001b[0m\u001b[0m\n\u001b[0;32m   6296\u001b[0m             \u001b[1;32mand\u001b[0m \u001b[0mself\u001b[0m\u001b[1;33m.\u001b[0m\u001b[0m_info_axis\u001b[0m\u001b[1;33m.\u001b[0m\u001b[0m_can_hold_identifiers_and_holds_name\u001b[0m\u001b[1;33m(\u001b[0m\u001b[0mname\u001b[0m\u001b[1;33m)\u001b[0m\u001b[1;33m\u001b[0m\u001b[1;33m\u001b[0m\u001b[0m\n\u001b[0;32m   6297\u001b[0m         \u001b[1;33m)\u001b[0m\u001b[1;33m:\u001b[0m\u001b[1;33m\u001b[0m\u001b[1;33m\u001b[0m\u001b[0m\n\u001b[0;32m   6298\u001b[0m             \u001b[1;32mreturn\u001b[0m \u001b[0mself\u001b[0m\u001b[1;33m[\u001b[0m\u001b[0mname\u001b[0m\u001b[1;33m]\u001b[0m\u001b[1;33m\u001b[0m\u001b[1;33m\u001b[0m\u001b[0m\n\u001b[1;32m-> 6299\u001b[1;33m         \u001b[1;32mreturn\u001b[0m \u001b[0mobject\u001b[0m\u001b[1;33m.\u001b[0m\u001b[0m__getattribute__\u001b[0m\u001b[1;33m(\u001b[0m\u001b[0mself\u001b[0m\u001b[1;33m,\u001b[0m \u001b[0mname\u001b[0m\u001b[1;33m)\u001b[0m\u001b[1;33m\u001b[0m\u001b[1;33m\u001b[0m\u001b[0m\n\u001b[0m",
      "\u001b[1;31mAttributeError\u001b[0m: 'DataFrame' object has no attribute 'tolist'"
     ]
    }
   ],
   "source": [
    "execution_time_list = exe_time.tolist()"
   ]
  },
  {
   "cell_type": "code",
   "execution_count": null,
   "id": "70d135d3-9bdc-4547-9537-58e0f59b4aa8",
   "metadata": {},
   "outputs": [],
   "source": []
  }
 ],
 "metadata": {
  "kernelspec": {
   "display_name": "Python 3 (ipykernel)",
   "language": "python",
   "name": "python3"
  },
  "language_info": {
   "codemirror_mode": {
    "name": "ipython",
    "version": 3
   },
   "file_extension": ".py",
   "mimetype": "text/x-python",
   "name": "python",
   "nbconvert_exporter": "python",
   "pygments_lexer": "ipython3",
   "version": "3.13.5"
  }
 },
 "nbformat": 4,
 "nbformat_minor": 5
}
